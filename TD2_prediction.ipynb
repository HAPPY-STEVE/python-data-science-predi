{
 "cells": [
  {
   "cell_type": "code",
   "execution_count": 1,
   "id": "eb1f1b27",
   "metadata": {},
   "outputs": [
    {
     "name": "stdout",
     "output_type": "stream",
     "text": [
      "48\n",
      "48\n",
      "[array([[1.        , 0.56207381, 0.93797595, ..., 0.96968362, 0.96107644,\n",
      "        0.97718042],\n",
      "       [0.56207381, 1.        , 0.31056622, ..., 0.44028215, 0.38451081,\n",
      "        0.4532694 ],\n",
      "       [0.93797595, 0.31056622, 1.        , ..., 0.98472008, 0.9866689 ,\n",
      "        0.97935391],\n",
      "       ...,\n",
      "       [0.96968362, 0.44028215, 0.98472008, ..., 1.        , 0.99554725,\n",
      "        0.98414087],\n",
      "       [0.96107644, 0.38451081, 0.9866689 , ..., 0.99554725, 1.        ,\n",
      "        0.98195956],\n",
      "       [0.97718042, 0.4532694 , 0.97935391, ..., 0.98414087, 0.98195956,\n",
      "        1.        ]])]\n"
     ]
    }
   ],
   "source": [
    "import numpy as np \n",
    "import csv \n",
    "import pandas as pd\n",
    "import xlrd\n",
    "from matplotlib import pyplot as plt\n",
    "\n",
    "#import jour de référence\n",
    "df = pd.read_csv(\"7janvier.csv\")\n",
    "df=df.dropna()\n",
    "jourCherche = df.Consommation\n",
    "#print(\"Contents :\", jourCherche)\n",
    "\n",
    "#import RTE\n",
    "df = pd.read_csv('RTE.csv')\n",
    "df=df.dropna()\n",
    "data2020 = df.Consommation\n",
    "#print(\"Contents :\", data2020)\n",
    "\n",
    "#formatage de l'objet RTE panda en tableau compréhensible\n",
    "array_jour_ref = []\n",
    "for i in data2020:\n",
    "    array_jour_ref.append(i)\n",
    "\n",
    "#print(len(array_jour))\n",
    "\n",
    "array_jour_cherche = []\n",
    "#formatage du jour du 7 janvier pour avoir un tableau identique\n",
    "for i in jourCherche:\n",
    "    array_jour_cherche.append(i)\n",
    "\n",
    "\n",
    "#etape 1 : separation des jours du RTE\n",
    "#il y a 366 jours en 2020 donc on divise par 366 \n",
    "array_splited = np.array_split(array_jour_ref, 366)\n",
    "print(len(array_jour_cherche))\n",
    "\n",
    "print(len(array_splited[0]))\n",
    "\n",
    "#etape 2 : corrélation entre chaque jour \n",
    "def create_correlation_matrix(x, y):\n",
    "    return np.corrcoef(x, y)\n",
    "    \n",
    "correl_array = []   \n",
    "\n",
    "correl_array.append(create_correlation_matrix(array_jour_cherche, array_splited))\n",
    "    \n",
    "    \n",
    "    \n",
    "    \n",
    "\n",
    "print(correl_array)\n",
    "    \n",
    "\n",
    "\n",
    "def mainProgram():\n",
    "    pass\n",
    "\n"
   ]
  }
 ],
 "metadata": {
  "kernelspec": {
   "display_name": "Python 3 (ipykernel)",
   "language": "python",
   "name": "python3"
  },
  "language_info": {
   "codemirror_mode": {
    "name": "ipython",
    "version": 3
   },
   "file_extension": ".py",
   "mimetype": "text/x-python",
   "name": "python",
   "nbconvert_exporter": "python",
   "pygments_lexer": "ipython3",
   "version": "3.9.13"
  }
 },
 "nbformat": 4,
 "nbformat_minor": 5
}
