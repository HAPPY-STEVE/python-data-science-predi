{
 "cells": [
  {
   "cell_type": "code",
   "execution_count": 1,
   "id": "eb1f1b27",
   "metadata": {},
   "outputs": [
    {
     "name": "stdout",
     "output_type": "stream",
     "text": [
      "17568\n",
      "48\n"
     ]
    }
   ],
   "source": [
    "import numpy as np \n",
    "import csv \n",
    "import pandas as pd\n",
    "import xlrd\n",
    "from matplotlib import pyplot as plt\n",
    "\n",
    "#import jour de référence\n",
    "df = pd.read_csv(\"7janvier.csv\")\n",
    "df=df.dropna()\n",
    "jourCherche = df.Consommation\n",
    "#print(\"Contents :\", jourCherche)\n",
    "\n",
    "#import RTE\n",
    "df = pd.read_csv('RTE.csv')\n",
    "df=df.dropna()\n",
    "data2020 = df.Consommation\n",
    "#print(\"Contents :\", data2020)\n",
    "\n",
    "#formatage de l'objet RTE panda en tableau compréhensible\n",
    "array_jour = []\n",
    "for i in data2020:\n",
    "    array_jour.append(i)\n",
    "\n",
    "print(len(array_jour))\n",
    "\n",
    "#etape 1 : separation des jours du RTE\n",
    "#il y a 366 jours en 2020 donc on divise par 366 \n",
    "array_splited = np.array_split(array_jour, 366)\n",
    "print(len(array_splited[0]))\n",
    "\n",
    "#etape 2 : corrélation entre chaque jour \n",
    "def defineCorrelation(a1, a2):\n",
    "    cor = np.corrcoef(a1,a2)\n",
    "    \n",
    "for i in range (array_splited)\n",
    "    \n",
    "    \n",
    "    \n",
    "\n",
    "\n",
    "def mainProgram():\n",
    "    pass\n",
    "\n"
   ]
  }
 ],
 "metadata": {
  "kernelspec": {
   "display_name": "Python 3 (ipykernel)",
   "language": "python",
   "name": "python3"
  },
  "language_info": {
   "codemirror_mode": {
    "name": "ipython",
    "version": 3
   },
   "file_extension": ".py",
   "mimetype": "text/x-python",
   "name": "python",
   "nbconvert_exporter": "python",
   "pygments_lexer": "ipython3",
   "version": "3.9.13"
  }
 },
 "nbformat": 4,
 "nbformat_minor": 5
}
